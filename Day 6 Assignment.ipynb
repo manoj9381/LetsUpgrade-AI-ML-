{
 "cells": [
  {
   "cell_type": "markdown",
   "metadata": {},
   "source": [
    "### Question 1 :\n",
    "Assuming that we have some email addresses in the \"username@companyname.com\" format, please\n",
    "\n",
    "write a program to print the company name of a given email address. Both user names and company\n",
    "\n",
    "names are composed of letters only.\n",
    "\n",
    "Input Format:\n",
    "\n",
    "The first line of the input contains an email address.\n",
    "\n",
    "Output Format:\n",
    "\n",
    "Print the company name in a single line.\n",
    "\n",
    "Example;\n",
    "\n",
    "Input:\n",
    "\n",
    "john@google.com\n",
    "\n",
    "Output:\n",
    "\n",
    "google."
   ]
  },
  {
   "cell_type": "code",
   "execution_count": 4,
   "metadata": {},
   "outputs": [
    {
     "name": "stdout",
     "output_type": "stream",
     "text": [
      "john@google.com\n",
      "google\n"
     ]
    }
   ],
   "source": [
    "s=input()\n",
    "s1=s.split(\"@\")\n",
    "s2=s1[1].split(\".\")\n",
    "print(s2[0])"
   ]
  },
  {
   "cell_type": "markdown",
   "metadata": {},
   "source": [
    "### Question 2 :\n",
    "Write a program that accepts a comma-separated sequence of words as input and prints the words in a\n",
    "comma-separated sequence after sorting them alphabetically.\n",
    "\n",
    "Input Format:\n",
    "The first line of input contains words separated by the comma.\n",
    "\n",
    "Output Format:\n",
    "Print the sorted words separated by the comma.\n",
    "\n",
    "Example:\n",
    "Input:\n",
    "without,hello,bag,world\n",
    "\n",
    "Output:\n",
    "bag,hello,without,world"
   ]
  },
  {
   "cell_type": "code",
   "execution_count": 10,
   "metadata": {},
   "outputs": [
    {
     "name": "stdout",
     "output_type": "stream",
     "text": [
      "Enter words seperated by comma:without,hello,bag,world\n",
      "('bag', 'hello', 'without', 'world')\n"
     ]
    }
   ],
   "source": [
    "s=input(\"Enter words seperated by comma:\").split(\",\")\n",
    "s1=sorted(s)\n",
    "print(tuple(s1))"
   ]
  },
  {
   "cell_type": "markdown",
   "metadata": {},
   "source": [
    "### Question 4:\n",
    "Given a list of n-1 numbers ranging from 1 to n, your task is to find the missing number. There are no\n",
    "duplicates.\n",
    "\n",
    "Input Format:\n",
    "The first line contains n-1 numbers with each number separated by a space.\n",
    "Output Format:\n",
    "Print the missing number\n",
    "\n",
    "Example:\n",
    "Input:\n",
    "1 2 4 6 3 7 8\n",
    "Output:\n",
    "5\n",
    "\n",
    "Explanation:\n",
    "In the above list of numbers 5 is missing and hence 5 is the input"
   ]
  },
  {
   "cell_type": "code",
   "execution_count": 9,
   "metadata": {},
   "outputs": [
    {
     "name": "stdout",
     "output_type": "stream",
     "text": [
      "Enter numbers seperated by space:1 2 4 6 3 7 8\n",
      "5\n"
     ]
    }
   ],
   "source": [
    "a=input(\"Enter numbers seperated by space:\").split(\" \") \n",
    "for i in range(len(a)):\n",
    "    a[i]=int(a[i])\n",
    "for i in range(1,max(a)):\n",
    "    if(i in a):\n",
    "        continue\n",
    "    else:\n",
    "        print(i)\n",
    "        break\n"
   ]
  },
  {
   "cell_type": "markdown",
   "metadata": {},
   "source": [
    "#### Question 5:\n",
    "With a given list L, write a program to print this list L after removing all duplicate values with original order\n",
    "reserved.\n",
    "\n",
    "Example:\n",
    "If the input list is\n",
    "12 24 35 24 88 120 155 88 120 155\n",
    "Then the output should be\n",
    "12 24 35 88 120 155\n",
    "\n",
    "Explanation:\n",
    "Third, the seventh and ninth element of the list L has been removed because it was already present.\n",
    "\n",
    "Input Format:\n",
    "In one line take the elements of the list L with each element separated by a space.\n",
    "\n",
    "Output Format:\n",
    "Print the elements of the modified list in one line with each element separated by a space.\n",
    "\n",
    "Example:\n",
    "\n",
    "Input:\n",
    "12 24 35 24\n",
    "\n",
    "Output:\n",
    "12 24 35"
   ]
  },
  {
   "cell_type": "code",
   "execution_count": 24,
   "metadata": {},
   "outputs": [
    {
     "name": "stdout",
     "output_type": "stream",
     "text": [
      "Enter numbers separated by space:12 24 35 24\n",
      "12 24 35\n"
     ]
    }
   ],
   "source": [
    "a=input(\"Enter numbers separated by space:\").split(\" \")\n",
    "for i in range(len(a)):\n",
    "    a[i]=int(a[i])\n",
    "\n",
    "for i in range(len(a)):\n",
    "    for j in range(i+1,len(a)):\n",
    "        if(a[i]==a[j]):\n",
    "            a.pop(j)\n",
    "        else:\n",
    "            continue\n",
    "            \n",
    "for i in range(len(a)):\n",
    "    a[i]=str(a[i])\n",
    "s=' '.join(a)\n",
    "print(s)"
   ]
  },
  {
   "cell_type": "markdown",
   "metadata": {},
   "source": [
    "#### Question 3:\n",
    "Create your own Jupyter Notebook for Sets."
   ]
  },
  {
   "cell_type": "code",
   "execution_count": 26,
   "metadata": {},
   "outputs": [
    {
     "name": "stdout",
     "output_type": "stream",
     "text": [
      "{}\n"
     ]
    }
   ],
   "source": [
    "s={}\n",
    "print(s)"
   ]
  },
  {
   "cell_type": "code",
   "execution_count": 27,
   "metadata": {},
   "outputs": [
    {
     "name": "stdout",
     "output_type": "stream",
     "text": [
      "{1, 2, 3, 4}\n"
     ]
    }
   ],
   "source": [
    "s={1,2,3,4,2,3,1}\n",
    "print(s)"
   ]
  },
  {
   "cell_type": "code",
   "execution_count": 28,
   "metadata": {},
   "outputs": [
    {
     "name": "stdout",
     "output_type": "stream",
     "text": [
      "{'manoj', 'apple', 'banana'}\n"
     ]
    }
   ],
   "source": [
    "s={\"apple\",\"banana\",\"manoj\"}\n",
    "print(s)"
   ]
  },
  {
   "cell_type": "code",
   "execution_count": 30,
   "metadata": {},
   "outputs": [
    {
     "name": "stdout",
     "output_type": "stream",
     "text": [
      "Manoj\n",
      "SRKR\n",
      "3\n",
      "6\n",
      "True\n"
     ]
    }
   ],
   "source": [
    "s={3,6,\"Manoj\",\"SRKR\"}\n",
    "for i in s:\n",
    "    print(i)\n",
    "print(\"Manoj\" in s)"
   ]
  },
  {
   "cell_type": "code",
   "execution_count": 34,
   "metadata": {},
   "outputs": [
    {
     "name": "stdout",
     "output_type": "stream",
     "text": [
      "{1, 2, 3, 4}\n",
      "{1, 2, 3, 4, 5}\n"
     ]
    }
   ],
   "source": [
    "s={1,2,3,4}\n",
    "print(s)\n",
    "s.add(5)\n",
    "print(s)"
   ]
  },
  {
   "cell_type": "code",
   "execution_count": 35,
   "metadata": {},
   "outputs": [
    {
     "name": "stdout",
     "output_type": "stream",
     "text": [
      "{3, 4, 'apple', 'banana'}\n",
      "{3, 4, 'banana', 43, 12.67, 'apple', 'manoj', 'srkr'}\n"
     ]
    }
   ],
   "source": [
    "s={\"apple\",3,4,\"banana\"}\n",
    "print(s)\n",
    "s.update([\"manoj\",\"srkr\",43,12.67])\n",
    "print(s)"
   ]
  },
  {
   "cell_type": "code",
   "execution_count": 1,
   "metadata": {},
   "outputs": [
    {
     "name": "stdout",
     "output_type": "stream",
     "text": [
      "{'apple', 3, 4, 'banana'}\n",
      "{3, 4, 'banana'}\n"
     ]
    }
   ],
   "source": [
    "s={\"apple\",3,4,\"banana\"}\n",
    "print(s)\n",
    "s.remove(\"apple\")\n",
    "print(s)"
   ]
  },
  {
   "cell_type": "code",
   "execution_count": 2,
   "metadata": {},
   "outputs": [],
   "source": [
    "s={\"apple\",3,4,\"banana\"}\n",
    "s.discard(\"banana\")"
   ]
  },
  {
   "cell_type": "code",
   "execution_count": 3,
   "metadata": {},
   "outputs": [
    {
     "name": "stdout",
     "output_type": "stream",
     "text": [
      "{'apple', 3, 4}\n"
     ]
    }
   ],
   "source": [
    "print(s)"
   ]
  },
  {
   "cell_type": "code",
   "execution_count": 4,
   "metadata": {},
   "outputs": [
    {
     "name": "stdout",
     "output_type": "stream",
     "text": [
      "{3, 4, 'banana'}\n"
     ]
    }
   ],
   "source": [
    "s={\"apple\",3,4,\"banana\"}\n",
    "s.pop()\n",
    "print(s)"
   ]
  },
  {
   "cell_type": "code",
   "execution_count": 5,
   "metadata": {},
   "outputs": [
    {
     "ename": "NameError",
     "evalue": "name 's' is not defined",
     "output_type": "error",
     "traceback": [
      "\u001b[1;31m---------------------------------------------------------------------------\u001b[0m",
      "\u001b[1;31mNameError\u001b[0m                                 Traceback (most recent call last)",
      "\u001b[1;32m<ipython-input-5-e99b091f651e>\u001b[0m in \u001b[0;36m<module>\u001b[1;34m\u001b[0m\n\u001b[0;32m      1\u001b[0m \u001b[0ms\u001b[0m\u001b[1;33m=\u001b[0m\u001b[1;33m{\u001b[0m\u001b[1;34m\"apple\"\u001b[0m\u001b[1;33m,\u001b[0m\u001b[1;36m3\u001b[0m\u001b[1;33m,\u001b[0m\u001b[1;36m4\u001b[0m\u001b[1;33m,\u001b[0m\u001b[1;34m\"banana\"\u001b[0m\u001b[1;33m}\u001b[0m\u001b[1;33m\u001b[0m\u001b[1;33m\u001b[0m\u001b[0m\n\u001b[0;32m      2\u001b[0m \u001b[1;32mdel\u001b[0m \u001b[0ms\u001b[0m\u001b[1;33m\u001b[0m\u001b[1;33m\u001b[0m\u001b[0m\n\u001b[1;32m----> 3\u001b[1;33m \u001b[0mprint\u001b[0m\u001b[1;33m(\u001b[0m\u001b[0ms\u001b[0m\u001b[1;33m)\u001b[0m\u001b[1;33m\u001b[0m\u001b[1;33m\u001b[0m\u001b[0m\n\u001b[0m",
      "\u001b[1;31mNameError\u001b[0m: name 's' is not defined"
     ]
    }
   ],
   "source": [
    "s={\"apple\",3,4,\"banana\"}\n",
    "del s #entire set will be deleted\n",
    "print(s)"
   ]
  },
  {
   "cell_type": "code",
   "execution_count": 10,
   "metadata": {},
   "outputs": [
    {
     "name": "stdout",
     "output_type": "stream",
     "text": [
      "{'a', 1, 'c', 2, 3, 'b'}\n"
     ]
    }
   ],
   "source": [
    "s1={\"a\",\"b\",\"c\"}\n",
    "s2={1,2,3}\n",
    "s1.update(s2)\n",
    "print(s1)"
   ]
  },
  {
   "cell_type": "code",
   "execution_count": 11,
   "metadata": {},
   "outputs": [
    {
     "name": "stdout",
     "output_type": "stream",
     "text": [
      "{'a', 1, 'c', 2, 3, 'b'}\n"
     ]
    }
   ],
   "source": [
    "s1={\"a\",\"b\",\"c\"}\n",
    "s2={1,2,3}\n",
    "s3=s1.union(s2)\n",
    "print(s3)"
   ]
  },
  {
   "cell_type": "code",
   "execution_count": 13,
   "metadata": {},
   "outputs": [
    {
     "name": "stdout",
     "output_type": "stream",
     "text": [
      "{'a', 'b'}\n"
     ]
    }
   ],
   "source": [
    "s1={\"a\",\"b\",\"c\"}\n",
    "s2={1,2,3,\"a\",\"b\"}\n",
    "s3=s1.intersection(s2)\n",
    "print(s3)"
   ]
  },
  {
   "cell_type": "code",
   "execution_count": 15,
   "metadata": {},
   "outputs": [
    {
     "name": "stdout",
     "output_type": "stream",
     "text": [
      "False\n"
     ]
    }
   ],
   "source": [
    "s1={\"a\",\"b\",\"c\"}\n",
    "s2={1,2,3,\"a\",\"b\"}\n",
    "print(s1.isdisjoint(s2))"
   ]
  },
  {
   "cell_type": "code",
   "execution_count": 16,
   "metadata": {},
   "outputs": [
    {
     "name": "stdout",
     "output_type": "stream",
     "text": [
      "False\n"
     ]
    }
   ],
   "source": [
    "s1={\"a\",\"b\",\"c\"}\n",
    "s2={1,2,3,\"a\",\"b\"}\n",
    "print(s1.issubset(s2))"
   ]
  },
  {
   "cell_type": "code",
   "execution_count": 17,
   "metadata": {},
   "outputs": [
    {
     "name": "stdout",
     "output_type": "stream",
     "text": [
      "False\n"
     ]
    }
   ],
   "source": [
    "s1={\"a\",\"b\",\"c\"}\n",
    "s2={1,2,3,\"a\",\"b\"}\n",
    "print(s1.issuperset(s2))"
   ]
  },
  {
   "cell_type": "code",
   "execution_count": 18,
   "metadata": {},
   "outputs": [
    {
     "name": "stdout",
     "output_type": "stream",
     "text": [
      "{1, 2, 3, 'c'}\n"
     ]
    }
   ],
   "source": [
    "s1={\"a\",\"b\",\"c\"}\n",
    "s2={1,2,3,\"a\",\"b\"}\n",
    "s3=s1.symmetric_difference(s2)\n",
    "print(s3)"
   ]
  },
  {
   "cell_type": "code",
   "execution_count": null,
   "metadata": {},
   "outputs": [],
   "source": []
  }
 ],
 "metadata": {
  "kernelspec": {
   "display_name": "Python 3",
   "language": "python",
   "name": "python3"
  },
  "language_info": {
   "codemirror_mode": {
    "name": "ipython",
    "version": 3
   },
   "file_extension": ".py",
   "mimetype": "text/x-python",
   "name": "python",
   "nbconvert_exporter": "python",
   "pygments_lexer": "ipython3",
   "version": "3.7.6"
  }
 },
 "nbformat": 4,
 "nbformat_minor": 4
}
