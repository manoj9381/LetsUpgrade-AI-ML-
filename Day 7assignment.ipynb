{
 "cells": [
  {
   "cell_type": "markdown",
   "metadata": {},
   "source": [
    "### Question 1:\n",
    "\n",
    "Write a program to copy the contents of one file to another using a for loop. (Don’t use built-in copy\n",
    "function)"
   ]
  },
  {
   "cell_type": "code",
   "execution_count": 4,
   "metadata": {},
   "outputs": [
    {
     "name": "stdout",
     "output_type": "stream",
     "text": [
      "Hii all\n",
      "How are you?\n",
      "Iam doing good.\n"
     ]
    }
   ],
   "source": [
    "f=open(\"1.txt\",\"r\")\n",
    "f1=open(\"2.txt\",\"w\")\n",
    "count=f.readlines()\n",
    "for i in range(len(count)):\n",
    "    f1.write(count[i])\n",
    "f1.close()\n",
    "f2=open(\"2.txt\",\"r\")\n",
    "content=f2.read()\n",
    "print(content)\n",
    "\n",
    "f.close()\n",
    "f2.close()"
   ]
  },
  {
   "cell_type": "markdown",
   "metadata": {},
   "source": [
    "### Question 2:\n",
    "Write a Python program to find maximum and minimum values in the dictionary. Do not use built-in min\n",
    "and max functions."
   ]
  },
  {
   "cell_type": "code",
   "execution_count": 17,
   "metadata": {},
   "outputs": [
    {
     "name": "stdout",
     "output_type": "stream",
     "text": [
      "3\n"
     ]
    }
   ],
   "source": [
    "d={\"first\":1,\"second\":2,\"third\":3,\"fourth\":4,\"fifth\":5}\n",
    "maxi=\"first\"\n",
    "for key in d:\n",
    "    if(str(key)>maxi):\n",
    "        maxi=key\n",
    "print(d[maxi])"
   ]
  },
  {
   "cell_type": "code",
   "execution_count": 18,
   "metadata": {},
   "outputs": [
    {
     "name": "stdout",
     "output_type": "stream",
     "text": [
      "5\n"
     ]
    }
   ],
   "source": [
    "d={\"first\":1,\"second\":2,\"third\":3,\"fourth\":4,\"fifth\":5}\n",
    "mini=\"first\"\n",
    "for key in d:\n",
    "    if(str(key)<mini):\n",
    "        mini=key\n",
    "print(d[mini])"
   ]
  },
  {
   "cell_type": "code",
   "execution_count": 24,
   "metadata": {},
   "outputs": [
    {
     "name": "stdout",
     "output_type": "stream",
     "text": [
      "fifth\n"
     ]
    }
   ],
   "source": [
    "d={1:\"first\",2:\"second\",3:\"third\",4:\"fourth\",5:\"fifth\"}\n",
    "maxi=1\n",
    "for key in d:\n",
    "    if(key>maxi):\n",
    "        maxi=key\n",
    "print(d[maxi])"
   ]
  },
  {
   "cell_type": "code",
   "execution_count": 25,
   "metadata": {},
   "outputs": [
    {
     "name": "stdout",
     "output_type": "stream",
     "text": [
      "first\n"
     ]
    }
   ],
   "source": [
    "d={1:\"first\",2:\"second\",3:\"third\",4:\"fourth\",5:\"fifth\"}\n",
    "mini=1\n",
    "for key in d:\n",
    "    if(key<mini):\n",
    "        mini=key\n",
    "print(d[mini])"
   ]
  },
  {
   "cell_type": "code",
   "execution_count": null,
   "metadata": {},
   "outputs": [],
   "source": []
  }
 ],
 "metadata": {
  "kernelspec": {
   "display_name": "Python 3",
   "language": "python",
   "name": "python3"
  },
  "language_info": {
   "codemirror_mode": {
    "name": "ipython",
    "version": 3
   },
   "file_extension": ".py",
   "mimetype": "text/x-python",
   "name": "python",
   "nbconvert_exporter": "python",
   "pygments_lexer": "ipython3",
   "version": "3.7.6"
  }
 },
 "nbformat": 4,
 "nbformat_minor": 4
}
